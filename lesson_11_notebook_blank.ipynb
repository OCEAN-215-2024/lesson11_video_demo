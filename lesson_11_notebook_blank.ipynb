{
 "cells": [
  {
   "cell_type": "markdown",
   "metadata": {
    "id": "e-mBYryrNVUs"
   },
   "source": [
    "# Lesson #11\n",
    "## Histograms/bar plots and more figure formatting"
   ]
  },
  {
   "cell_type": "markdown",
   "metadata": {
    "id": "6jDYsSFHOGky"
   },
   "source": [
    "### About this notebook\n"
   ]
  },
  {
   "cell_type": "markdown",
   "metadata": {
    "id": "1AKWDky_b8iH"
   },
   "source": [
    "You can follow along with the Lesson #11 tutorial video using this notebook.\n",
    "The dataset we are using is included in this repository.\n",
    "> __File name:__ `'Dissolved_Inorganic_Nutrients.csv'`"
   ]
  },
  {
   "cell_type": "markdown",
   "metadata": {
    "id": "ZDQWZ-DcSqNv"
   },
   "source": [
    "### About this data \n",
    "\n"
   ]
  },
  {
   "cell_type": "markdown",
   "metadata": {
    "id": "oUEzzGaxS6Cx"
   },
   "source": [
    "<center><img src=\"https://pallter.marine.rutgers.edu/wp-content/uploads/2021/03/pal_full_color.png\" width=\"200\" /> </center>\n",
    "\n",
    "##### This data is from the Palmer Station Antarctica Long Term Ecological Research (LTER) Network, [Dissolved Inorganic Nutrient station](https://doi.org/10.6073/pasta/8f9b7a10633d6eed2e8c0f2eefb8ac0c). \n",
    "\n",
    " **Why nutrients?** In addition to sunlight, the inorganic macronutrients dissolved phosphate, silicate, nitrate, and nitrite allow phytoplankton grow in seawater. These phytoplankton are the primary producers that support a large food web, including krill and the whales that feed on them. Though phytoplankton growth in the Southern Ocean is most often limited by a lack of iron or sunlight, understanding the concentrations of other dissolved macronutrients can still be illuminating for oceanographers. Water samples are analyzed using nutrient autoanalyzers, also known as continuous flow analyzers, to quantify their nutrient concentration. \n",
    "\n",
    "\n",
    " "
   ]
  },
  {
   "cell_type": "markdown",
   "metadata": {
    "id": "-fYELJwZSy_o"
   },
   "source": [
    "### Coding demonstration"
   ]
  },
  {
   "cell_type": "code",
   "execution_count": 1,
   "metadata": {
    "id": "QnnxH-28NTXm",
    "tags": []
   },
   "outputs": [],
   "source": [
    "# Import statements\n",
    "import numpy as np\n",
    "import pandas as pd\n",
    "import matplotlib.pyplot as plt\n",
    "from datetime import datetime"
   ]
  },
  {
   "cell_type": "code",
   "execution_count": 2,
   "metadata": {
    "id": "I2IWPG2yO7AJ"
   },
   "outputs": [],
   "source": [
    "# Get our filepath\n",
    "folderpath = 'data/'\n",
    "filename = 'Dissolved_Inorganic_Nutrients.csv'\n",
    "\n",
    "# Load the data and display it\n"
   ]
  },
  {
   "cell_type": "code",
   "execution_count": 3,
   "metadata": {
    "id": "eISQJttiO_yK"
   },
   "outputs": [],
   "source": [
    "# Clean the data\n",
    "\n",
    "\n",
    "# Group and average by date\n",
    "\n",
    "# NOTE: To make the groupby line work in JupyterHub, you'll need to include the parameter \n",
    "# 'numeric_only=True' in .mean(). This is because we are using a newer version of pandas.\n",
    "# This is what the line should look like:\n",
    "#       cleandata = data.groupby('Datetime GMT').mean(numeric_only=True)\n"
   ]
  },
  {
   "cell_type": "code",
   "execution_count": 4,
   "metadata": {
    "tags": []
   },
   "outputs": [],
   "source": [
    "# Create variables for each of the nutrients we are plotting\n"
   ]
  },
  {
   "cell_type": "code",
   "execution_count": 5,
   "metadata": {
    "tags": []
   },
   "outputs": [],
   "source": [
    "# One figure, one axes (multiline plot)\n",
    "\n",
    "# Plotting the lines\n",
    "\n",
    "# Formatting the figure\n",
    "\n",
    "# Creating a legend\n",
    "\n",
    "# Saving our figure"
   ]
  },
  {
   "cell_type": "code",
   "execution_count": 6,
   "metadata": {
    "tags": []
   },
   "outputs": [],
   "source": [
    "# Do some statistics on our nutrient concentrations (mean, std)\n"
   ]
  },
  {
   "cell_type": "code",
   "execution_count": 7,
   "metadata": {
    "tags": []
   },
   "outputs": [],
   "source": [
    "# One figure, three axes (subplots) - histograms\n",
    "\n",
    "# Axis 0 - Phosphate\n",
    "\n",
    "# Axis 1 - Silicate\n",
    "\n",
    "# Axis 2 - Nitrite/Nitrate\n",
    "\n",
    "\n",
    "# Saving our figure\n"
   ]
  },
  {
   "cell_type": "code",
   "execution_count": 8,
   "metadata": {
    "id": "Caq-P0sIPJz9"
   },
   "outputs": [],
   "source": [
    "# One figure - bar plot\n",
    "\n",
    "# Creating the bars\n",
    "\n",
    "# Formatting the ticks\n",
    "\n",
    "# Putting text on the plot\n",
    "\n",
    "\n",
    "# Saving our figure\n"
   ]
  }
 ],
 "metadata": {
  "colab": {
   "authorship_tag": "ABX9TyOrRaJFaxQMzUfPXE56rI0Z",
   "collapsed_sections": [
    "ZDQWZ-DcSqNv"
   ],
   "name": "2020-11-10 - lesson #11 notebook.ipynb",
   "provenance": []
  },
  "kernelspec": {
   "display_name": "Python 3 (ipykernel)",
   "language": "python",
   "name": "python3"
  },
  "language_info": {
   "codemirror_mode": {
    "name": "ipython",
    "version": 3
   },
   "file_extension": ".py",
   "mimetype": "text/x-python",
   "name": "python",
   "nbconvert_exporter": "python",
   "pygments_lexer": "ipython3",
   "version": "3.10.10"
  }
 },
 "nbformat": 4,
 "nbformat_minor": 4
}
